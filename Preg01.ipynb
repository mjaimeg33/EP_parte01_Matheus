{
  "nbformat": 4,
  "nbformat_minor": 0,
  "metadata": {
    "colab": {
      "provenance": []
    },
    "kernelspec": {
      "name": "python3",
      "display_name": "Python 3"
    },
    "language_info": {
      "name": "python"
    }
  },
  "cells": [
    {
      "cell_type": "code",
      "execution_count": null,
      "metadata": {
        "id": "IJqyVIMzeeGh"
      },
      "outputs": [],
      "source": [
        "#PREGUNTA 1\n",
        "horas = int(input(\"Ingrese el número de horas de estacionamiento: \"))\n",
        "\n",
        "if horas <= 4:\n",
        "    importe = 6.00\n",
        "else:\n",
        "    horas_adicionales = horas - 4\n",
        "    importe = 6.00 + (horas_adicionales * 2.00)\n",
        "\n",
        "print(\"El importe a pagar es: S/.\", importe)"
      ]
    }
  ]
}
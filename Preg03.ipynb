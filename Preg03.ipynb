{
  "nbformat": 4,
  "nbformat_minor": 0,
  "metadata": {
    "colab": {
      "provenance": []
    },
    "kernelspec": {
      "name": "python3",
      "display_name": "Python 3"
    },
    "language_info": {
      "name": "python"
    }
  },
  "cells": [
    {
      "cell_type": "code",
      "execution_count": null,
      "metadata": {
        "id": "Rr7th2u2hSTJ"
      },
      "outputs": [],
      "source": [
        "#Ejercicio03\n",
        "def calcular_costo_viaje(bus, distancia, personas):\n",
        "    if personas > bus['capacidad']:\n",
        "        return \"Cantidad no permitida\", None\n",
        "    \n",
        "    costo_por_persona = bus['costo_km'] * distancia\n",
        "    costo_total = costo_por_persona * personas\n",
        "    \n",
        "    return costo_por_persona, costo_total\n",
        "# Definir los datos de los buses\n",
        "buses = {\n",
        "    '1': {'costo_km': 2, 'capacidad': 20},\n",
        "    '2': {'costo_km': 2.5, 'capacidad': 25},\n",
        "    '3': {'costo_km': 3, 'capacidad': 30}\n",
        "}\n",
        "\n",
        "# Obtener los datos del usuario\n",
        "bus_elegido = input(\"Ingrese el número de bus (1, 2 o 3): \")\n",
        "distancia = float(input(\"Ingrese la distancia en kilómetros: \"))\n",
        "personas = int(input(\"Ingrese la cantidad de personas: \"))\n",
        "\n",
        "# Verificar el bus elegido y calcular el costo del viaje\n",
        "if bus_elegido in buses:\n",
        "    bus = buses[bus_elegido]\n",
        "    costo_por_persona, costo_total = calcular_costo_viaje(bus, distancia, personas)\n",
        "    if costo_por_persona == \"Cantidad no permitida\":\n",
        "        print(costo_por_persona)\n",
        "    else:\n",
        "        print(\"Importe a pagar por persona:\", costo_por_persona)\n",
        "        print(\"Costo total del viaje:\", costo_total)\n",
        "else:\n",
        "    print(\"Número de bus inválido\")"
      ]
    }
  ]
}